{
 "cells": [
  {
   "cell_type": "code",
   "execution_count": 1,
   "metadata": {},
   "outputs": [],
   "source": [
    "import pandas as pd\n",
    "from requests import get\n",
    "import itertools\n",
    "import numpy as np\n",
    "import io\n",
    "# from pandas.io.common import ZipFile"
   ]
  },
  {
   "cell_type": "code",
   "execution_count": 2,
   "metadata": {},
   "outputs": [],
   "source": [
    "import zipfile"
   ]
  },
  {
   "cell_type": "code",
   "execution_count": 3,
   "metadata": {},
   "outputs": [],
   "source": [
    "def movie_preprocessing(movie):\n",
    "    movie_col = list(movie.columns)\n",
    "    movie_tag = [doc.split('|') for doc in movie['tag']]\n",
    "#     print(movie_tag[:100])\n",
    "    tag_table = {token: idx for idx, token in enumerate(set(itertools.chain.from_iterable(movie_tag)))}\n",
    "    movie_tag = pd.DataFrame(movie_tag)\n",
    "#     print(movie_tag)\n",
    "#     print(tag_table.items())\n",
    "    tag_table = pd.DataFrame(list(tag_table.items()))\n",
    "    tag_table.columns = ['Tag', 'Index']\n",
    "    tag_table = tag_table.set_index('Index')\n",
    "    tag_table.sort_index(inplace=True)\n",
    "    tag_table = tag_table.reset_index()\n",
    "    print(tag_table)\n",
    "#     return\n",
    "\n",
    "    # use one-hot encoding for movie genres (here called tag)\n",
    "    tag_dummy = np.zeros([len(movie), len(tag_table)])\n",
    "\n",
    "    for i in range(len(movie)):\n",
    "        for j in range(len(tag_table)):\n",
    "            if tag_table['Tag'][j] in list(movie_tag.iloc[i, :]):\n",
    "                tag_dummy[i, j] = 1\n",
    "#                 if i < 2:\n",
    "#                     print('!', tag_table['Tag'][j], list(movie_tag.iloc[i, :]))\n",
    "#     print(tag_dummy[:3])\n",
    "    \n",
    "    # combine the tag_dummy one-hot encoding table to original movie files\n",
    "    movie = pd.concat([movie, pd.DataFrame(tag_dummy)], 1)\n",
    "    movie_col.extend(['tag' + str(i) for i in range(len(tag_table))])\n",
    "    \n",
    "    \n",
    "    movie.columns = movie_col\n",
    "    rename_dic = {}\n",
    "    for i in tag_table['Index']:\n",
    "        rename_dic['tag' + str(i)] = tag_table['Tag'][i]\n",
    "#     print(dic)\n",
    "    movie = movie.rename(columns=rename_dic)\n",
    "\n",
    "    \n",
    "\n",
    "    movie = movie.drop('tag', 1)\n",
    "    return movie, tag_table"
   ]
  },
  {
   "cell_type": "code",
   "execution_count": 4,
   "metadata": {},
   "outputs": [
    {
     "name": "stdout",
     "output_type": "stream",
     "text": [
      "    Index                 Tag\n",
      "0       0           Adventure\n",
      "1       1              Sci-Fi\n",
      "2       2  (no genres listed)\n",
      "3       3               Crime\n",
      "4       4              Action\n",
      "5       5              Horror\n",
      "6       6                IMAX\n",
      "7       7           Film-Noir\n",
      "8       8         Documentary\n",
      "9       9             Musical\n",
      "10     10            Children\n",
      "11     11            Thriller\n",
      "12     12              Comedy\n",
      "13     13           Animation\n",
      "14     14               Drama\n",
      "15     15                 War\n",
      "16     16             Mystery\n",
      "17     17             Fantasy\n",
      "18     18             Western\n",
      "19     19             Romance\n"
     ]
    }
   ],
   "source": [
    "movie = pd.read_table('ml-10m/ml-10M100K/movies.dat', sep='::', names=['movie_id', 'movie_name', 'tag'], engine='python')\n",
    "movie, tag_table = movie_preprocessing(movie)"
   ]
  },
  {
   "cell_type": "code",
   "execution_count": 5,
   "metadata": {},
   "outputs": [
    {
     "data": {
      "text/html": [
       "<div>\n",
       "<style scoped>\n",
       "    .dataframe tbody tr th:only-of-type {\n",
       "        vertical-align: middle;\n",
       "    }\n",
       "\n",
       "    .dataframe tbody tr th {\n",
       "        vertical-align: top;\n",
       "    }\n",
       "\n",
       "    .dataframe thead th {\n",
       "        text-align: right;\n",
       "    }\n",
       "</style>\n",
       "<table border=\"1\" class=\"dataframe\">\n",
       "  <thead>\n",
       "    <tr style=\"text-align: right;\">\n",
       "      <th></th>\n",
       "      <th>movie_id</th>\n",
       "      <th>movie_name</th>\n",
       "      <th>Adventure</th>\n",
       "      <th>Sci-Fi</th>\n",
       "      <th>(no genres listed)</th>\n",
       "      <th>Crime</th>\n",
       "      <th>Action</th>\n",
       "      <th>Horror</th>\n",
       "      <th>IMAX</th>\n",
       "      <th>Film-Noir</th>\n",
       "      <th>...</th>\n",
       "      <th>Children</th>\n",
       "      <th>Thriller</th>\n",
       "      <th>Comedy</th>\n",
       "      <th>Animation</th>\n",
       "      <th>Drama</th>\n",
       "      <th>War</th>\n",
       "      <th>Mystery</th>\n",
       "      <th>Fantasy</th>\n",
       "      <th>Western</th>\n",
       "      <th>Romance</th>\n",
       "    </tr>\n",
       "  </thead>\n",
       "  <tbody>\n",
       "    <tr>\n",
       "      <th>0</th>\n",
       "      <td>1</td>\n",
       "      <td>Toy Story (1995)</td>\n",
       "      <td>1.0</td>\n",
       "      <td>0.0</td>\n",
       "      <td>0.0</td>\n",
       "      <td>0.0</td>\n",
       "      <td>0.0</td>\n",
       "      <td>0.0</td>\n",
       "      <td>0.0</td>\n",
       "      <td>0.0</td>\n",
       "      <td>...</td>\n",
       "      <td>1.0</td>\n",
       "      <td>0.0</td>\n",
       "      <td>1.0</td>\n",
       "      <td>1.0</td>\n",
       "      <td>0.0</td>\n",
       "      <td>0.0</td>\n",
       "      <td>0.0</td>\n",
       "      <td>1.0</td>\n",
       "      <td>0.0</td>\n",
       "      <td>0.0</td>\n",
       "    </tr>\n",
       "    <tr>\n",
       "      <th>1</th>\n",
       "      <td>2</td>\n",
       "      <td>Jumanji (1995)</td>\n",
       "      <td>1.0</td>\n",
       "      <td>0.0</td>\n",
       "      <td>0.0</td>\n",
       "      <td>0.0</td>\n",
       "      <td>0.0</td>\n",
       "      <td>0.0</td>\n",
       "      <td>0.0</td>\n",
       "      <td>0.0</td>\n",
       "      <td>...</td>\n",
       "      <td>1.0</td>\n",
       "      <td>0.0</td>\n",
       "      <td>0.0</td>\n",
       "      <td>0.0</td>\n",
       "      <td>0.0</td>\n",
       "      <td>0.0</td>\n",
       "      <td>0.0</td>\n",
       "      <td>1.0</td>\n",
       "      <td>0.0</td>\n",
       "      <td>0.0</td>\n",
       "    </tr>\n",
       "    <tr>\n",
       "      <th>2</th>\n",
       "      <td>3</td>\n",
       "      <td>Grumpier Old Men (1995)</td>\n",
       "      <td>0.0</td>\n",
       "      <td>0.0</td>\n",
       "      <td>0.0</td>\n",
       "      <td>0.0</td>\n",
       "      <td>0.0</td>\n",
       "      <td>0.0</td>\n",
       "      <td>0.0</td>\n",
       "      <td>0.0</td>\n",
       "      <td>...</td>\n",
       "      <td>0.0</td>\n",
       "      <td>0.0</td>\n",
       "      <td>1.0</td>\n",
       "      <td>0.0</td>\n",
       "      <td>0.0</td>\n",
       "      <td>0.0</td>\n",
       "      <td>0.0</td>\n",
       "      <td>0.0</td>\n",
       "      <td>0.0</td>\n",
       "      <td>1.0</td>\n",
       "    </tr>\n",
       "    <tr>\n",
       "      <th>3</th>\n",
       "      <td>4</td>\n",
       "      <td>Waiting to Exhale (1995)</td>\n",
       "      <td>0.0</td>\n",
       "      <td>0.0</td>\n",
       "      <td>0.0</td>\n",
       "      <td>0.0</td>\n",
       "      <td>0.0</td>\n",
       "      <td>0.0</td>\n",
       "      <td>0.0</td>\n",
       "      <td>0.0</td>\n",
       "      <td>...</td>\n",
       "      <td>0.0</td>\n",
       "      <td>0.0</td>\n",
       "      <td>1.0</td>\n",
       "      <td>0.0</td>\n",
       "      <td>1.0</td>\n",
       "      <td>0.0</td>\n",
       "      <td>0.0</td>\n",
       "      <td>0.0</td>\n",
       "      <td>0.0</td>\n",
       "      <td>1.0</td>\n",
       "    </tr>\n",
       "    <tr>\n",
       "      <th>4</th>\n",
       "      <td>5</td>\n",
       "      <td>Father of the Bride Part II (1995)</td>\n",
       "      <td>0.0</td>\n",
       "      <td>0.0</td>\n",
       "      <td>0.0</td>\n",
       "      <td>0.0</td>\n",
       "      <td>0.0</td>\n",
       "      <td>0.0</td>\n",
       "      <td>0.0</td>\n",
       "      <td>0.0</td>\n",
       "      <td>...</td>\n",
       "      <td>0.0</td>\n",
       "      <td>0.0</td>\n",
       "      <td>1.0</td>\n",
       "      <td>0.0</td>\n",
       "      <td>0.0</td>\n",
       "      <td>0.0</td>\n",
       "      <td>0.0</td>\n",
       "      <td>0.0</td>\n",
       "      <td>0.0</td>\n",
       "      <td>0.0</td>\n",
       "    </tr>\n",
       "  </tbody>\n",
       "</table>\n",
       "<p>5 rows × 22 columns</p>\n",
       "</div>"
      ],
      "text/plain": [
       "   movie_id                          movie_name  Adventure  Sci-Fi  \\\n",
       "0         1                    Toy Story (1995)        1.0     0.0   \n",
       "1         2                      Jumanji (1995)        1.0     0.0   \n",
       "2         3             Grumpier Old Men (1995)        0.0     0.0   \n",
       "3         4            Waiting to Exhale (1995)        0.0     0.0   \n",
       "4         5  Father of the Bride Part II (1995)        0.0     0.0   \n",
       "\n",
       "   (no genres listed)  Crime  Action  Horror  IMAX  Film-Noir   ...     \\\n",
       "0                 0.0    0.0     0.0     0.0   0.0        0.0   ...      \n",
       "1                 0.0    0.0     0.0     0.0   0.0        0.0   ...      \n",
       "2                 0.0    0.0     0.0     0.0   0.0        0.0   ...      \n",
       "3                 0.0    0.0     0.0     0.0   0.0        0.0   ...      \n",
       "4                 0.0    0.0     0.0     0.0   0.0        0.0   ...      \n",
       "\n",
       "   Children  Thriller  Comedy  Animation  Drama  War  Mystery  Fantasy  \\\n",
       "0       1.0       0.0     1.0        1.0    0.0  0.0      0.0      1.0   \n",
       "1       1.0       0.0     0.0        0.0    0.0  0.0      0.0      1.0   \n",
       "2       0.0       0.0     1.0        0.0    0.0  0.0      0.0      0.0   \n",
       "3       0.0       0.0     1.0        0.0    1.0  0.0      0.0      0.0   \n",
       "4       0.0       0.0     1.0        0.0    0.0  0.0      0.0      0.0   \n",
       "\n",
       "   Western  Romance  \n",
       "0      0.0      0.0  \n",
       "1      0.0      0.0  \n",
       "2      0.0      1.0  \n",
       "3      0.0      1.0  \n",
       "4      0.0      0.0  \n",
       "\n",
       "[5 rows x 22 columns]"
      ]
     },
     "execution_count": 5,
     "metadata": {},
     "output_type": "execute_result"
    }
   ],
   "source": [
    "movie.head()"
   ]
  },
  {
   "cell_type": "markdown",
   "metadata": {},
   "source": [
    "## Read ratings data"
   ]
  },
  {
   "cell_type": "code",
   "execution_count": 6,
   "metadata": {},
   "outputs": [],
   "source": [
    "rating = pd.read_table(\"ml-10m/ml-10M100K/ratings.dat\", sep=\"::\", \n",
    "                       names=[\"user_id\", \"movie_id\", \"rating\", \"timestamp\"], engine='python')"
   ]
  },
  {
   "cell_type": "code",
   "execution_count": 7,
   "metadata": {},
   "outputs": [],
   "source": [
    "data = pd.merge(rating, movie, on=\"movie_id\")"
   ]
  },
  {
   "cell_type": "code",
   "execution_count": 8,
   "metadata": {},
   "outputs": [
    {
     "data": {
      "text/html": [
       "<div>\n",
       "<style scoped>\n",
       "    .dataframe tbody tr th:only-of-type {\n",
       "        vertical-align: middle;\n",
       "    }\n",
       "\n",
       "    .dataframe tbody tr th {\n",
       "        vertical-align: top;\n",
       "    }\n",
       "\n",
       "    .dataframe thead th {\n",
       "        text-align: right;\n",
       "    }\n",
       "</style>\n",
       "<table border=\"1\" class=\"dataframe\">\n",
       "  <thead>\n",
       "    <tr style=\"text-align: right;\">\n",
       "      <th></th>\n",
       "      <th>user_id</th>\n",
       "      <th>movie_id</th>\n",
       "      <th>rating</th>\n",
       "      <th>timestamp</th>\n",
       "      <th>movie_name</th>\n",
       "      <th>Adventure</th>\n",
       "      <th>Sci-Fi</th>\n",
       "      <th>(no genres listed)</th>\n",
       "      <th>Crime</th>\n",
       "      <th>Action</th>\n",
       "      <th>...</th>\n",
       "      <th>Children</th>\n",
       "      <th>Thriller</th>\n",
       "      <th>Comedy</th>\n",
       "      <th>Animation</th>\n",
       "      <th>Drama</th>\n",
       "      <th>War</th>\n",
       "      <th>Mystery</th>\n",
       "      <th>Fantasy</th>\n",
       "      <th>Western</th>\n",
       "      <th>Romance</th>\n",
       "    </tr>\n",
       "  </thead>\n",
       "  <tbody>\n",
       "    <tr>\n",
       "      <th>0</th>\n",
       "      <td>1</td>\n",
       "      <td>122</td>\n",
       "      <td>5.0</td>\n",
       "      <td>838985046</td>\n",
       "      <td>Boomerang (1992)</td>\n",
       "      <td>0.0</td>\n",
       "      <td>0.0</td>\n",
       "      <td>0.0</td>\n",
       "      <td>0.0</td>\n",
       "      <td>0.0</td>\n",
       "      <td>...</td>\n",
       "      <td>0.0</td>\n",
       "      <td>0.0</td>\n",
       "      <td>1.0</td>\n",
       "      <td>0.0</td>\n",
       "      <td>0.0</td>\n",
       "      <td>0.0</td>\n",
       "      <td>0.0</td>\n",
       "      <td>0.0</td>\n",
       "      <td>0.0</td>\n",
       "      <td>1.0</td>\n",
       "    </tr>\n",
       "    <tr>\n",
       "      <th>1</th>\n",
       "      <td>139</td>\n",
       "      <td>122</td>\n",
       "      <td>3.0</td>\n",
       "      <td>974302621</td>\n",
       "      <td>Boomerang (1992)</td>\n",
       "      <td>0.0</td>\n",
       "      <td>0.0</td>\n",
       "      <td>0.0</td>\n",
       "      <td>0.0</td>\n",
       "      <td>0.0</td>\n",
       "      <td>...</td>\n",
       "      <td>0.0</td>\n",
       "      <td>0.0</td>\n",
       "      <td>1.0</td>\n",
       "      <td>0.0</td>\n",
       "      <td>0.0</td>\n",
       "      <td>0.0</td>\n",
       "      <td>0.0</td>\n",
       "      <td>0.0</td>\n",
       "      <td>0.0</td>\n",
       "      <td>1.0</td>\n",
       "    </tr>\n",
       "    <tr>\n",
       "      <th>2</th>\n",
       "      <td>149</td>\n",
       "      <td>122</td>\n",
       "      <td>2.5</td>\n",
       "      <td>1112342322</td>\n",
       "      <td>Boomerang (1992)</td>\n",
       "      <td>0.0</td>\n",
       "      <td>0.0</td>\n",
       "      <td>0.0</td>\n",
       "      <td>0.0</td>\n",
       "      <td>0.0</td>\n",
       "      <td>...</td>\n",
       "      <td>0.0</td>\n",
       "      <td>0.0</td>\n",
       "      <td>1.0</td>\n",
       "      <td>0.0</td>\n",
       "      <td>0.0</td>\n",
       "      <td>0.0</td>\n",
       "      <td>0.0</td>\n",
       "      <td>0.0</td>\n",
       "      <td>0.0</td>\n",
       "      <td>1.0</td>\n",
       "    </tr>\n",
       "    <tr>\n",
       "      <th>3</th>\n",
       "      <td>182</td>\n",
       "      <td>122</td>\n",
       "      <td>3.0</td>\n",
       "      <td>943458784</td>\n",
       "      <td>Boomerang (1992)</td>\n",
       "      <td>0.0</td>\n",
       "      <td>0.0</td>\n",
       "      <td>0.0</td>\n",
       "      <td>0.0</td>\n",
       "      <td>0.0</td>\n",
       "      <td>...</td>\n",
       "      <td>0.0</td>\n",
       "      <td>0.0</td>\n",
       "      <td>1.0</td>\n",
       "      <td>0.0</td>\n",
       "      <td>0.0</td>\n",
       "      <td>0.0</td>\n",
       "      <td>0.0</td>\n",
       "      <td>0.0</td>\n",
       "      <td>0.0</td>\n",
       "      <td>1.0</td>\n",
       "    </tr>\n",
       "    <tr>\n",
       "      <th>4</th>\n",
       "      <td>215</td>\n",
       "      <td>122</td>\n",
       "      <td>4.5</td>\n",
       "      <td>1102493547</td>\n",
       "      <td>Boomerang (1992)</td>\n",
       "      <td>0.0</td>\n",
       "      <td>0.0</td>\n",
       "      <td>0.0</td>\n",
       "      <td>0.0</td>\n",
       "      <td>0.0</td>\n",
       "      <td>...</td>\n",
       "      <td>0.0</td>\n",
       "      <td>0.0</td>\n",
       "      <td>1.0</td>\n",
       "      <td>0.0</td>\n",
       "      <td>0.0</td>\n",
       "      <td>0.0</td>\n",
       "      <td>0.0</td>\n",
       "      <td>0.0</td>\n",
       "      <td>0.0</td>\n",
       "      <td>1.0</td>\n",
       "    </tr>\n",
       "  </tbody>\n",
       "</table>\n",
       "<p>5 rows × 25 columns</p>\n",
       "</div>"
      ],
      "text/plain": [
       "   user_id  movie_id  rating   timestamp        movie_name  Adventure  Sci-Fi  \\\n",
       "0        1       122     5.0   838985046  Boomerang (1992)        0.0     0.0   \n",
       "1      139       122     3.0   974302621  Boomerang (1992)        0.0     0.0   \n",
       "2      149       122     2.5  1112342322  Boomerang (1992)        0.0     0.0   \n",
       "3      182       122     3.0   943458784  Boomerang (1992)        0.0     0.0   \n",
       "4      215       122     4.5  1102493547  Boomerang (1992)        0.0     0.0   \n",
       "\n",
       "   (no genres listed)  Crime  Action   ...     Children  Thriller  Comedy  \\\n",
       "0                 0.0    0.0     0.0   ...          0.0       0.0     1.0   \n",
       "1                 0.0    0.0     0.0   ...          0.0       0.0     1.0   \n",
       "2                 0.0    0.0     0.0   ...          0.0       0.0     1.0   \n",
       "3                 0.0    0.0     0.0   ...          0.0       0.0     1.0   \n",
       "4                 0.0    0.0     0.0   ...          0.0       0.0     1.0   \n",
       "\n",
       "   Animation  Drama  War  Mystery  Fantasy  Western  Romance  \n",
       "0        0.0    0.0  0.0      0.0      0.0      0.0      1.0  \n",
       "1        0.0    0.0  0.0      0.0      0.0      0.0      1.0  \n",
       "2        0.0    0.0  0.0      0.0      0.0      0.0      1.0  \n",
       "3        0.0    0.0  0.0      0.0      0.0      0.0      1.0  \n",
       "4        0.0    0.0  0.0      0.0      0.0      0.0      1.0  \n",
       "\n",
       "[5 rows x 25 columns]"
      ]
     },
     "execution_count": 8,
     "metadata": {},
     "output_type": "execute_result"
    }
   ],
   "source": [
    "data.head()"
   ]
  },
  {
   "cell_type": "code",
   "execution_count": 9,
   "metadata": {},
   "outputs": [
    {
     "data": {
      "text/plain": [
       "10677"
      ]
     },
     "execution_count": 9,
     "metadata": {},
     "output_type": "execute_result"
    }
   ],
   "source": [
    "len(data.movie_id.unique()) # in ratings not all movies"
   ]
  },
  {
   "cell_type": "markdown",
   "metadata": {},
   "source": [
    "## Split on test and train"
   ]
  },
  {
   "cell_type": "code",
   "execution_count": 10,
   "metadata": {},
   "outputs": [],
   "source": [
    "data_sort = data.sort_values('timestamp')"
   ]
  },
  {
   "cell_type": "code",
   "execution_count": 11,
   "metadata": {},
   "outputs": [
    {
     "data": {
      "text/html": [
       "<div>\n",
       "<style scoped>\n",
       "    .dataframe tbody tr th:only-of-type {\n",
       "        vertical-align: middle;\n",
       "    }\n",
       "\n",
       "    .dataframe tbody tr th {\n",
       "        vertical-align: top;\n",
       "    }\n",
       "\n",
       "    .dataframe thead th {\n",
       "        text-align: right;\n",
       "    }\n",
       "</style>\n",
       "<table border=\"1\" class=\"dataframe\">\n",
       "  <thead>\n",
       "    <tr style=\"text-align: right;\">\n",
       "      <th></th>\n",
       "      <th>user_id</th>\n",
       "      <th>movie_id</th>\n",
       "      <th>rating</th>\n",
       "      <th>timestamp</th>\n",
       "      <th>movie_name</th>\n",
       "      <th>Adventure</th>\n",
       "      <th>Sci-Fi</th>\n",
       "      <th>(no genres listed)</th>\n",
       "      <th>Crime</th>\n",
       "      <th>Action</th>\n",
       "      <th>...</th>\n",
       "      <th>Children</th>\n",
       "      <th>Thriller</th>\n",
       "      <th>Comedy</th>\n",
       "      <th>Animation</th>\n",
       "      <th>Drama</th>\n",
       "      <th>War</th>\n",
       "      <th>Mystery</th>\n",
       "      <th>Fantasy</th>\n",
       "      <th>Western</th>\n",
       "      <th>Romance</th>\n",
       "    </tr>\n",
       "  </thead>\n",
       "  <tbody>\n",
       "    <tr>\n",
       "      <th>1300912</th>\n",
       "      <td>36955</td>\n",
       "      <td>47</td>\n",
       "      <td>5.0</td>\n",
       "      <td>789652009</td>\n",
       "      <td>Seven (a.k.a. Se7en) (1995)</td>\n",
       "      <td>0.0</td>\n",
       "      <td>0.0</td>\n",
       "      <td>0.0</td>\n",
       "      <td>1.0</td>\n",
       "      <td>0.0</td>\n",
       "      <td>...</td>\n",
       "      <td>0.0</td>\n",
       "      <td>1.0</td>\n",
       "      <td>0.0</td>\n",
       "      <td>0.0</td>\n",
       "      <td>0.0</td>\n",
       "      <td>0.0</td>\n",
       "      <td>1.0</td>\n",
       "      <td>0.0</td>\n",
       "      <td>0.0</td>\n",
       "      <td>0.0</td>\n",
       "    </tr>\n",
       "    <tr>\n",
       "      <th>799477</th>\n",
       "      <td>36955</td>\n",
       "      <td>21</td>\n",
       "      <td>3.0</td>\n",
       "      <td>789652009</td>\n",
       "      <td>Get Shorty (1995)</td>\n",
       "      <td>0.0</td>\n",
       "      <td>0.0</td>\n",
       "      <td>0.0</td>\n",
       "      <td>0.0</td>\n",
       "      <td>1.0</td>\n",
       "      <td>...</td>\n",
       "      <td>0.0</td>\n",
       "      <td>0.0</td>\n",
       "      <td>1.0</td>\n",
       "      <td>0.0</td>\n",
       "      <td>1.0</td>\n",
       "      <td>0.0</td>\n",
       "      <td>0.0</td>\n",
       "      <td>0.0</td>\n",
       "      <td>0.0</td>\n",
       "      <td>0.0</td>\n",
       "    </tr>\n",
       "    <tr>\n",
       "      <th>3046094</th>\n",
       "      <td>36955</td>\n",
       "      <td>1079</td>\n",
       "      <td>3.0</td>\n",
       "      <td>789652009</td>\n",
       "      <td>Fish Called Wanda, A (1988)</td>\n",
       "      <td>0.0</td>\n",
       "      <td>0.0</td>\n",
       "      <td>0.0</td>\n",
       "      <td>1.0</td>\n",
       "      <td>0.0</td>\n",
       "      <td>...</td>\n",
       "      <td>0.0</td>\n",
       "      <td>0.0</td>\n",
       "      <td>1.0</td>\n",
       "      <td>0.0</td>\n",
       "      <td>0.0</td>\n",
       "      <td>0.0</td>\n",
       "      <td>0.0</td>\n",
       "      <td>0.0</td>\n",
       "      <td>0.0</td>\n",
       "      <td>0.0</td>\n",
       "    </tr>\n",
       "    <tr>\n",
       "      <th>1227665</th>\n",
       "      <td>35139</td>\n",
       "      <td>1</td>\n",
       "      <td>4.0</td>\n",
       "      <td>822873600</td>\n",
       "      <td>Toy Story (1995)</td>\n",
       "      <td>1.0</td>\n",
       "      <td>0.0</td>\n",
       "      <td>0.0</td>\n",
       "      <td>0.0</td>\n",
       "      <td>0.0</td>\n",
       "      <td>...</td>\n",
       "      <td>1.0</td>\n",
       "      <td>0.0</td>\n",
       "      <td>1.0</td>\n",
       "      <td>1.0</td>\n",
       "      <td>0.0</td>\n",
       "      <td>0.0</td>\n",
       "      <td>0.0</td>\n",
       "      <td>1.0</td>\n",
       "      <td>0.0</td>\n",
       "      <td>0.0</td>\n",
       "    </tr>\n",
       "    <tr>\n",
       "      <th>5842938</th>\n",
       "      <td>35435</td>\n",
       "      <td>11</td>\n",
       "      <td>4.0</td>\n",
       "      <td>822873600</td>\n",
       "      <td>American President, The (1995)</td>\n",
       "      <td>0.0</td>\n",
       "      <td>0.0</td>\n",
       "      <td>0.0</td>\n",
       "      <td>0.0</td>\n",
       "      <td>0.0</td>\n",
       "      <td>...</td>\n",
       "      <td>0.0</td>\n",
       "      <td>0.0</td>\n",
       "      <td>1.0</td>\n",
       "      <td>0.0</td>\n",
       "      <td>1.0</td>\n",
       "      <td>0.0</td>\n",
       "      <td>0.0</td>\n",
       "      <td>0.0</td>\n",
       "      <td>0.0</td>\n",
       "      <td>1.0</td>\n",
       "    </tr>\n",
       "  </tbody>\n",
       "</table>\n",
       "<p>5 rows × 25 columns</p>\n",
       "</div>"
      ],
      "text/plain": [
       "         user_id  movie_id  rating  timestamp                      movie_name  \\\n",
       "1300912    36955        47     5.0  789652009     Seven (a.k.a. Se7en) (1995)   \n",
       "799477     36955        21     3.0  789652009               Get Shorty (1995)   \n",
       "3046094    36955      1079     3.0  789652009     Fish Called Wanda, A (1988)   \n",
       "1227665    35139         1     4.0  822873600                Toy Story (1995)   \n",
       "5842938    35435        11     4.0  822873600  American President, The (1995)   \n",
       "\n",
       "         Adventure  Sci-Fi  (no genres listed)  Crime  Action   ...     \\\n",
       "1300912        0.0     0.0                 0.0    1.0     0.0   ...      \n",
       "799477         0.0     0.0                 0.0    0.0     1.0   ...      \n",
       "3046094        0.0     0.0                 0.0    1.0     0.0   ...      \n",
       "1227665        1.0     0.0                 0.0    0.0     0.0   ...      \n",
       "5842938        0.0     0.0                 0.0    0.0     0.0   ...      \n",
       "\n",
       "         Children  Thriller  Comedy  Animation  Drama  War  Mystery  Fantasy  \\\n",
       "1300912       0.0       1.0     0.0        0.0    0.0  0.0      1.0      0.0   \n",
       "799477        0.0       0.0     1.0        0.0    1.0  0.0      0.0      0.0   \n",
       "3046094       0.0       0.0     1.0        0.0    0.0  0.0      0.0      0.0   \n",
       "1227665       1.0       0.0     1.0        1.0    0.0  0.0      0.0      1.0   \n",
       "5842938       0.0       0.0     1.0        0.0    1.0  0.0      0.0      0.0   \n",
       "\n",
       "         Western  Romance  \n",
       "1300912      0.0      0.0  \n",
       "799477       0.0      0.0  \n",
       "3046094      0.0      0.0  \n",
       "1227665      0.0      0.0  \n",
       "5842938      0.0      1.0  \n",
       "\n",
       "[5 rows x 25 columns]"
      ]
     },
     "execution_count": 11,
     "metadata": {},
     "output_type": "execute_result"
    }
   ],
   "source": [
    "data_sort.head()"
   ]
  },
  {
   "cell_type": "code",
   "execution_count": 12,
   "metadata": {},
   "outputs": [
    {
     "data": {
      "text/plain": [
       "(10000054, 25)"
      ]
     },
     "execution_count": 12,
     "metadata": {},
     "output_type": "execute_result"
    }
   ],
   "source": [
    "data_sort.shape"
   ]
  },
  {
   "cell_type": "code",
   "execution_count": 21,
   "metadata": {},
   "outputs": [
    {
     "name": "stdout",
     "output_type": "stream",
     "text": [
      "(9000048, 25)\n",
      "(1000005, 25)\n"
     ]
    }
   ],
   "source": [
    "data_sort_train = data_sort[:int(0.9 * data_sort.shape[0])]\n",
    "data_sort_test = data_sort[int(0.9 * data_sort.shape[0]) + 1: data_sort.shape[0]]\n",
    "print(data_sort_train.shape)\n",
    "print(data_sort_test.shape)"
   ]
  },
  {
   "cell_type": "code",
   "execution_count": 14,
   "metadata": {},
   "outputs": [
    {
     "data": {
      "text/plain": [
       "64449"
      ]
     },
     "execution_count": 14,
     "metadata": {},
     "output_type": "execute_result"
    }
   ],
   "source": [
    "len(data_sort_train.user_id.unique()) # unique users in train"
   ]
  },
  {
   "cell_type": "code",
   "execution_count": 15,
   "metadata": {},
   "outputs": [
    {
     "data": {
      "text/plain": [
       "8287"
      ]
     },
     "execution_count": 15,
     "metadata": {},
     "output_type": "execute_result"
    }
   ],
   "source": [
    "len(data_sort_test.user_id.unique()) # unique users in test"
   ]
  },
  {
   "cell_type": "code",
   "execution_count": 16,
   "metadata": {},
   "outputs": [
    {
     "data": {
      "text/plain": [
       "2858"
      ]
     },
     "execution_count": 16,
     "metadata": {},
     "output_type": "execute_result"
    }
   ],
   "source": [
    "mutual_users = set(data_sort_test.user_id.unique()) & set(data_sort_train.user_id.unique()) # unique users in test and train\n",
    "len(mutual_users)"
   ]
  },
  {
   "cell_type": "code",
   "execution_count": 17,
   "metadata": {},
   "outputs": [
    {
     "data": {
      "text/plain": [
       "9579"
      ]
     },
     "execution_count": 17,
     "metadata": {},
     "output_type": "execute_result"
    }
   ],
   "source": [
    "len(data_sort_train.movie_id.unique()) # unique movies in train"
   ]
  },
  {
   "cell_type": "code",
   "execution_count": 18,
   "metadata": {},
   "outputs": [
    {
     "data": {
      "text/plain": [
       "10116"
      ]
     },
     "execution_count": 18,
     "metadata": {},
     "output_type": "execute_result"
    }
   ],
   "source": [
    "len(data_sort_test.movie_id.unique()) # unique movies in test"
   ]
  },
  {
   "cell_type": "code",
   "execution_count": 22,
   "metadata": {},
   "outputs": [
    {
     "data": {
      "text/plain": [
       "(195304, 25)"
      ]
     },
     "execution_count": 22,
     "metadata": {},
     "output_type": "execute_result"
    }
   ],
   "source": [
    "# delete from test data users that are not in train\n",
    "data_sort_test = data_sort_test[data_sort_test.user_id.isin(data_sort_train.user_id.unique())]\n",
    "data_sort_test.shape"
   ]
  },
  {
   "cell_type": "code",
   "execution_count": 23,
   "metadata": {},
   "outputs": [
    {
     "data": {
      "text/plain": [
       "(155034, 25)"
      ]
     },
     "execution_count": 23,
     "metadata": {},
     "output_type": "execute_result"
    }
   ],
   "source": [
    "# delete from test data users that are not in train\n",
    "data_sort_test = data_sort_test[data_sort_test.movie_id.isin(data_sort_train.movie_id.unique())]\n",
    "data_sort_test.shape"
   ]
  },
  {
   "cell_type": "code",
   "execution_count": 24,
   "metadata": {},
   "outputs": [],
   "source": [
    "# np.array(data_sort[[\"user_id\", \"movie_id\", \"rating\"]].head(), dtype = np.int)\n",
    "# np.array(data_sort_train[[\"user_id\", \"movie_id\", \"rating\"]].head(), dtype = np.int)\n",
    "# np.array(data_sort_test[[\"user_id\", \"movie_id\", \"rating\"]].head(), dtype = np.int)"
   ]
  },
  {
   "cell_type": "code",
   "execution_count": 25,
   "metadata": {},
   "outputs": [],
   "source": [
    "user_ids = sorted(list(set(data_sort_train['user_id'].tolist())))\n",
    "user_map = {} # user_id: user_index\n",
    "for i in range(len(user_ids)):\n",
    "    user_map[user_ids[i]] = i\n",
    "    \n",
    "movies_ids = sorted(list(set(movie['movie_id'].tolist())))\n",
    "movie_map = {} # mobie_id: movie_index\n",
    "for i in range(len(movies_ids)):\n",
    "    movie_map[movies_ids[i]] = i\n",
    "    \n",
    "# train\n",
    "matrix_first_train = np.zeros((len(user_ids), len(movies_ids)))\n",
    "\n",
    "data_matrix = np.array(data_sort_train[[\"user_id\", \"movie_id\", \"rating\"]], dtype = np.int)\n",
    "\n",
    "for i in range(len(data_matrix)):\n",
    "    matrix_first_train[user_map[data_matrix[i, 0]], movie_map[data_matrix[i, 1]]] = data_matrix[i, 2]\n",
    "    \n",
    "# test\n",
    "matrix_first_test = np.zeros((len(user_ids), len(movies_ids)))\n",
    "\n",
    "data_matrix = np.array(data_sort_test[[\"user_id\", \"movie_id\", \"rating\"]], dtype = np.int)\n",
    "\n",
    "for i in range(len(data_matrix)):\n",
    "    matrix_first_test[user_map[data_matrix[i, 0]], movie_map[data_matrix[i, 1]]] = data_matrix[i, 2]"
   ]
  },
  {
   "cell_type": "code",
   "execution_count": 26,
   "metadata": {},
   "outputs": [
    {
     "data": {
      "text/plain": [
       "(64449, 10681)"
      ]
     },
     "execution_count": 26,
     "metadata": {},
     "output_type": "execute_result"
    }
   ],
   "source": [
    "matrix_first_train.shape"
   ]
  },
  {
   "cell_type": "code",
   "execution_count": 27,
   "metadata": {},
   "outputs": [
    {
     "data": {
      "text/plain": [
       "(64449, 10681)"
      ]
     },
     "execution_count": 27,
     "metadata": {},
     "output_type": "execute_result"
    }
   ],
   "source": [
    "matrix_first_test.shape"
   ]
  },
  {
   "cell_type": "code",
   "execution_count": 28,
   "metadata": {},
   "outputs": [],
   "source": [
    "from scipy import sparse\n",
    "from scipy.sparse import linalg"
   ]
  },
  {
   "cell_type": "code",
   "execution_count": 29,
   "metadata": {},
   "outputs": [],
   "source": [
    "matrix_first_train_sparse = sparse.csr_matrix(matrix_first_train)"
   ]
  },
  {
   "cell_type": "code",
   "execution_count": 30,
   "metadata": {},
   "outputs": [],
   "source": [
    "u, s, v = linalg.svds(matrix_first_train_sparse, k=10)"
   ]
  },
  {
   "cell_type": "code",
   "execution_count": 31,
   "metadata": {},
   "outputs": [
    {
     "data": {
      "text/plain": [
       "(64449, 10)"
      ]
     },
     "execution_count": 31,
     "metadata": {},
     "output_type": "execute_result"
    }
   ],
   "source": [
    "u.shape"
   ]
  },
  {
   "cell_type": "code",
   "execution_count": 32,
   "metadata": {},
   "outputs": [],
   "source": [
    "s_sqrt = np.sqrt(np.diag(s))"
   ]
  },
  {
   "cell_type": "code",
   "execution_count": 33,
   "metadata": {},
   "outputs": [],
   "source": [
    "user_embedding = u @ s_sqrt\n",
    "item_embedding = s_sqrt @ v"
   ]
  },
  {
   "cell_type": "code",
   "execution_count": 34,
   "metadata": {},
   "outputs": [],
   "source": [
    "predicted_ratings = user_embedding @ item_embedding"
   ]
  },
  {
   "cell_type": "code",
   "execution_count": 35,
   "metadata": {},
   "outputs": [
    {
     "data": {
      "text/plain": [
       "(64449, 10681)"
      ]
     },
     "execution_count": 35,
     "metadata": {},
     "output_type": "execute_result"
    }
   ],
   "source": [
    "predicted_ratings.shape"
   ]
  },
  {
   "cell_type": "code",
   "execution_count": 36,
   "metadata": {},
   "outputs": [
    {
     "data": {
      "text/plain": [
       "array([[ 4.71296565e-01,  8.26978906e-01,  5.70770381e-03, ...,\n",
       "        -5.53070549e-19,  1.30375180e-18,  9.72829913e-20],\n",
       "       [ 1.16933956e+00,  2.43591065e-01,  5.91760601e-01, ...,\n",
       "        -3.60149784e-17,  3.86702653e-17,  2.42766100e-17],\n",
       "       [ 2.19745264e-01,  1.13787797e-01,  2.12510110e-02, ...,\n",
       "        -1.97813847e-17,  2.05304981e-17,  1.32542736e-17],\n",
       "       ...,\n",
       "       [ 9.64091689e-01, -3.42454418e-02, -4.23791210e-01, ...,\n",
       "        -1.90568962e-16,  1.99489616e-16,  1.18955522e-16],\n",
       "       [ 1.10232175e+00,  8.45549218e-01,  2.37776546e-01, ...,\n",
       "        -5.70577015e-17,  6.24349191e-17,  3.51134855e-17],\n",
       "       [ 1.31463535e+00,  3.80015639e-01,  1.88168123e-01, ...,\n",
       "        -3.70419708e-17,  3.86987330e-17,  2.31229932e-17]])"
      ]
     },
     "execution_count": 36,
     "metadata": {},
     "output_type": "execute_result"
    }
   ],
   "source": [
    "predicted_ratings"
   ]
  },
  {
   "cell_type": "code",
   "execution_count": 37,
   "metadata": {},
   "outputs": [],
   "source": [
    "# def model(user_id, movie_id, ganre_id, model):\n",
    "#     return predicted_ratings[user_id, movie_id]"
   ]
  },
  {
   "cell_type": "code",
   "execution_count": 38,
   "metadata": {},
   "outputs": [],
   "source": [
    "import sktensor\n",
    "import numpy as np\n",
    "from sktensor import dtensor, cp_als, sptensor"
   ]
  },
  {
   "cell_type": "code",
   "execution_count": 39,
   "metadata": {},
   "outputs": [],
   "source": [
    "ratings2 = np.array(data_sort_train.drop([\"timestamp\", \"movie_name\"], axis=1), dtype=np.int)\n",
    "# tensor_train = np.zeros((len(user_ids), len(movies_ids), len(tag_table)))\n",
    "\n",
    "user_indexes = []\n",
    "movie_indexes = []\n",
    "ganre_indexes = []\n",
    "values = []\n",
    "for i in range(len(ratings2)):\n",
    "    user_index = user_map[ratings2[i, 0]]\n",
    "    movie_index = movie_map[ratings2[i, 1]]\n",
    "    for j in range(len(ratings2[0])-3):\n",
    "        if ratings2[i, j+3] == 1:\n",
    "            user_indexes.append(user_index)\n",
    "            movie_indexes.append(movie_index)\n",
    "            ganre_indexes.append(j)\n",
    "            values.append(ratings2[i, 2])\n",
    "\n",
    "tensor_train = sptensor((user_indexes, movie_indexes, ganre_indexes), values, dtype=float)"
   ]
  },
  {
   "cell_type": "code",
   "execution_count": 40,
   "metadata": {},
   "outputs": [
    {
     "data": {
      "text/plain": [
       "(64449, 9986, 20)"
      ]
     },
     "execution_count": 40,
     "metadata": {},
     "output_type": "execute_result"
    }
   ],
   "source": [
    "tensor_train.shape"
   ]
  },
  {
   "cell_type": "code",
   "execution_count": 41,
   "metadata": {},
   "outputs": [],
   "source": [
    "# tensor_train"
   ]
  },
  {
   "cell_type": "code",
   "execution_count": 42,
   "metadata": {},
   "outputs": [],
   "source": [
    "# ratings_test = np.array(data_sort_train.drop([\"timestamp\", \"movie_name\"], axis=1), dtype=np.int)\n",
    "# # tensor_test = np.zeros((len(user_ids), len(movies_ids), len(tag_table)))\n",
    "\n",
    "# # for i in range(len(ratings_test)):\n",
    "# #     for j in range(len(ratings_test[0])-3):\n",
    "# #         if ratings_test[i, j+3] == 1:\n",
    "# #             tensor_test[user_map[ratings_test[i, 0]], movie_map[ratings_test[i, 1]], j] = ratings_test[i, 2]\n",
    "\n",
    "# user_indexes = []\n",
    "# movie_indexes = []\n",
    "# ganre_indexes = []\n",
    "# values = []\n",
    "# for i in range(len(ratings_test)):\n",
    "#     user_index = user_map[ratings_test[i, 0]]\n",
    "#     movie_index = movie_map[ratings_test[i, 1]]\n",
    "#     for j in range(len(ratings_test[0])-3):\n",
    "#         if ratings_test[i, j+3] == 1:\n",
    "#             user_indexes.append(user_index)\n",
    "#             movie_indexes.append(movie_index)\n",
    "#             ganre_indexes.append(j)\n",
    "#             values.append(ratings_test[i, 2])\n",
    "\n",
    "# tensor_test = sptensor((user_indexes, movie_indexes, ganre_indexes), values)"
   ]
  },
  {
   "cell_type": "code",
   "execution_count": null,
   "metadata": {},
   "outputs": [],
   "source": [
    "tensor_train.unfold(0)"
   ]
  },
  {
   "cell_type": "code",
   "execution_count": 43,
   "metadata": {},
   "outputs": [],
   "source": [
    "def hosvd(X, k):\n",
    "    d = len(X.shape)\n",
    "    matrices = []\n",
    "    for i in range(d):\n",
    "        u, _, _ = linalg.svds(X.unfold(i), k=k[i])\n",
    "        matrices.append(u)\n",
    "        shape = list(X.shape)\n",
    "        shape[i] = k[i]\n",
    "        X = dtensor((u.T @ X.unfold(i)).reshape(shape))\n",
    "    return X, matrices\n",
    "    "
   ]
  },
  {
   "cell_type": "code",
   "execution_count": 44,
   "metadata": {
    "scrolled": true
   },
   "outputs": [],
   "source": [
    "def HOOI(X, k, iters=5):\n",
    "    d = len(X.shape)\n",
    "    _, matrices = np.ones((k)), [np.ones((X.shape[0], k[0])), np.ones((X.shape[1], k[1])), np.ones((X.shape[2], k[2]))] #hosvd(X, k) \n",
    "    for iter in range(iters):\n",
    "        for i in range(d):\n",
    "            x = X\n",
    "            shape = list(X.shape)\n",
    "            for j in range(d):\n",
    "                if i != j:\n",
    "                    shape[j] = k[j]\n",
    "                    x = dtensor((matrices[j].T @ x.unfold(j)).reshape(shape))\n",
    "            u, _, _ = linalg.svds(x.unfold(i), k=k[i])\n",
    "            matrices[i] = u\n",
    "     \n",
    "    x = X\n",
    "    shape = list(X.shape)\n",
    "    for j in range(d):\n",
    "        shape[j] = k[j]\n",
    "        x = dtensor((matrices[j].T @ x.unfold(j)).reshape(shape))\n",
    "    return x, matrices\n",
    "    "
   ]
  },
  {
   "cell_type": "code",
   "execution_count": 45,
   "metadata": {},
   "outputs": [
    {
     "data": {
      "text/plain": [
       "20"
      ]
     },
     "execution_count": 45,
     "metadata": {},
     "output_type": "execute_result"
    }
   ],
   "source": [
    "len(tag_table)"
   ]
  },
  {
   "cell_type": "code",
   "execution_count": 72,
   "metadata": {},
   "outputs": [],
   "source": [
    "hosvd_model = hosvd(tensor_train, (5, 5, 19))"
   ]
  },
  {
   "cell_type": "code",
   "execution_count": 73,
   "metadata": {},
   "outputs": [],
   "source": [
    "hooi_model = HOOI(tensor_train, (5, 5, 19))"
   ]
  },
  {
   "cell_type": "code",
   "execution_count": null,
   "metadata": {},
   "outputs": [],
   "source": [
    "# T = dtensor(np.random.normal(size=(3, 3, 3)))\n",
    "# hosvd_model = hosvd(T, (2, 2, 2))\n",
    "# hooi_model = nehooiovoe_razlozhenie(T, (2, 2, 2))\n",
    "# def reconstruct(model):\n",
    "#     x, matrices = model\n",
    "#     shape = list(x.shape)\n",
    "#     for j in range(d):\n",
    "#         shape[j] = matrices[j].shape[0]\n",
    "#         x = dtensor((matrices[j] @ x.unfold(j)).reshape(shape))\n",
    "#     return x\n"
   ]
  },
  {
   "cell_type": "code",
   "execution_count": 48,
   "metadata": {},
   "outputs": [],
   "source": [
    "def predict(user, movie, genre, model):\n",
    "    if len(model) == 2:\n",
    "        tensor, matrices = model\n",
    "        user_matrix = matrices[0]\n",
    "        movie_matrix = matrices[1]\n",
    "        genre_matrix = matrices[2]\n",
    "        if movie >= movie_matrix.shape[1]:\n",
    "            return -1e10\n",
    "        k = tensor.shape\n",
    "        return sum([tensor[i,j,o] * (user_matrix[user,i] * movie_matrix[movie,j]) * genre_matrix[genre,o] for i in range(k[0]) for j in range(k[1]) for o in range(k[2])])\n",
    "    return model[user, movie]"
   ]
  },
  {
   "cell_type": "code",
   "execution_count": 49,
   "metadata": {},
   "outputs": [],
   "source": [
    "movie_arr = movie.values\n",
    "a = [[] for _ in range(20)]\n",
    "for i in range(len(movie_arr)):\n",
    "    for j in range(2, 22):\n",
    "        if movie_arr[i, j] == 1:\n",
    "            movie_id = movie_arr[i, 0]\n",
    "            a[j - 2].append((movie_id, movie_map[movie_id]))"
   ]
  },
  {
   "cell_type": "code",
   "execution_count": null,
   "metadata": {},
   "outputs": [],
   "source": [
    "movie_arr"
   ]
  },
  {
   "cell_type": "code",
   "execution_count": 50,
   "metadata": {},
   "outputs": [],
   "source": [
    "def DCG(ratings, k):\n",
    "    result = 0.0\n",
    "    for pos, rating in enumerate(ratings[:k]):\n",
    "        result += (2.0 ** rating - 1.0) / np.log2(2 + pos)\n",
    "    return result\n",
    "\n",
    "def IDCG(ratings, k):\n",
    "    return DCG(sorted(ratings, reverse=True), k)\n",
    "\n",
    "def NDCG(ratings, predictions, k):\n",
    "    idcg = IDCG(ratings, k)\n",
    "    return DCG(ratings[list(reversed(np.argsort(predictions)))], k) / max(1e-10, idcg)\n",
    "\n",
    "def Precision(ratings, k):\n",
    "    result = 0.0\n",
    "    for rating in ratings[:k]:\n",
    "        if rating > 0:\n",
    "            result += 1\n",
    "    return result / max(1, min(len(ratings), k))\n",
    "\n",
    "def IPrecision(ratings, k):\n",
    "    return Precision(sorted(ratings, reverse=True), k)\n",
    "\n",
    "def NPrecision(ratings, predictions, k):\n",
    "    iprec = IPrecision(ratings, k)\n",
    "    return Precision(ratings[list(reversed(np.argsort(predictions)))], k) / max(1e-20, iprec)\n",
    "\n",
    "class SERP(object):\n",
    "    def __init__(self, user_id, genre_id, rating_matrix, genre2movie, learn_matrix, users_map):\n",
    "        user_id = users_map[user_id]\n",
    "        self.movies_id = [movie_id for movie_id in genre2movie[genre_id] if learn_matrix[user_id,movie_id[1]] == 0]#FIXME]]\n",
    "        self.user_id = user_id\n",
    "        self.genre_id = genre_id\n",
    "        self.ratings = np.array([rating_matrix[user_id, movie_id[1]] for movie_id in self.movies_id])\n",
    "        self.scores = []\n",
    "        self.metric_value = 0.0\n",
    "    \n",
    "    def clean_up(self):\n",
    "        self.scores = []\n",
    "        self.metric_value = 0.0\n",
    "    \n",
    "    def evaluate(self, model, metric):\n",
    "        self.clean_up()\n",
    "        for movie_id in self.movies_id:\n",
    "            self.scores.append(model(self.user_id, movie_id[1], self.genre_id))\n",
    "        self.scores = np.array(self.scores)\n",
    "        self.metric_value = metric(self.ratings, self.scores)\n",
    "        return self.metric_value\n",
    "     \n",
    "    def evaluate_without_predicting(self, metric):\n",
    "        self.metric_value = metric(self.ratings, self.scores)\n",
    "        return self.metric_value"
   ]
  },
  {
   "cell_type": "code",
   "execution_count": 51,
   "metadata": {},
   "outputs": [],
   "source": [
    "ratings3 = np.array(data_sort_test.drop([\"timestamp\", \"movie_name\"], axis=1), dtype=np.int)\n",
    "\n",
    "user_indexes = []\n",
    "ganre_indexes = []\n",
    "\n",
    "for i in range(len(ratings3)):\n",
    "    for j in range(len(ratings3[0])-3):\n",
    "        if ratings3[i, j+3] == 1:\n",
    "            user_indexes.append(ratings3[i, 0])\n",
    "            ganre_indexes.append(j)\n",
    "\n",
    "test = list(zip(user_indexes, ganre_indexes))"
   ]
  },
  {
   "cell_type": "code",
   "execution_count": 52,
   "metadata": {},
   "outputs": [
    {
     "data": {
      "text/plain": [
       "410872"
      ]
     },
     "execution_count": 52,
     "metadata": {},
     "output_type": "execute_result"
    }
   ],
   "source": [
    "len(test)"
   ]
  },
  {
   "cell_type": "code",
   "execution_count": 53,
   "metadata": {},
   "outputs": [],
   "source": [
    "total = len(set(test))\n",
    "serps = []\n",
    "for i, (user_id, genre_id) in enumerate(set(test)):\n",
    "    serps.append(SERP(user_id, genre_id, matrix_first_test, a, matrix_first_train, user_map))"
   ]
  },
  {
   "cell_type": "code",
   "execution_count": 54,
   "metadata": {},
   "outputs": [],
   "source": [
    "metrics_for_svd = [\n",
    "    np.mean([\n",
    "        serp.evaluate(model=lambda x, y, z, m=predicted_ratings: predict(x, y, z, m),\n",
    "                      metric=lambda r, s, k=5: NDCG(r, s, k))\n",
    "        for serp in serps\n",
    "    ]),\n",
    "    np.mean([\n",
    "        serp.evaluate_without_predicting(metric=lambda r, s, k=10: NDCG(r, s, k))\n",
    "        for serp in serps\n",
    "    ]),\n",
    "    np.mean([\n",
    "        serp.evaluate_without_predicting(metric=lambda r, s, k=20: NDCG(r, s, k))\n",
    "        for serp in serps\n",
    "    ]),\n",
    "    np.mean([\n",
    "        serp.evaluate_without_predicting(metric=lambda r, s, k=1: NPrecision(r, s, k))\n",
    "        for serp in serps\n",
    "    ]),\n",
    "    np.mean([\n",
    "        serp.evaluate_without_predicting(metric=lambda r, s, k=5: NPrecision(r, s, k))\n",
    "        for serp in serps\n",
    "    ]),\n",
    "    np.mean([\n",
    "        serp.evaluate_without_predicting(metric=lambda r, s, k=10: NPrecision(r, s, k))\n",
    "        for serp in serps\n",
    "    ]),\n",
    "]"
   ]
  },
  {
   "cell_type": "code",
   "execution_count": 55,
   "metadata": {},
   "outputs": [
    {
     "data": {
      "text/plain": [
       "[0.18292797033052602,\n",
       " 0.19959877896812156,\n",
       " 0.22319331803787185,\n",
       " 0.23352879349449576,\n",
       " 0.2334997510648891,\n",
       " 0.2613390052781268]"
      ]
     },
     "execution_count": 55,
     "metadata": {},
     "output_type": "execute_result"
    }
   ],
   "source": [
    "metrics_for_svd"
   ]
  },
  {
   "cell_type": "code",
   "execution_count": 74,
   "metadata": {},
   "outputs": [],
   "source": [
    "metrics_for_hosvd = [\n",
    "    np.mean([\n",
    "        serp.evaluate(model=lambda x, y, z, m=hosvd_model: predict(x, y, z, m),\n",
    "                      metric=lambda r, s, k=5: NDCG(r, s, k))\n",
    "        for serp in serps\n",
    "    ]),\n",
    "    np.mean([\n",
    "        serp.evaluate_without_predicting(metric=lambda r, s, k=10: NDCG(r, s, k))\n",
    "        for serp in serps\n",
    "    ]),\n",
    "    np.mean([\n",
    "        serp.evaluate_without_predicting(metric=lambda r, s, k=20: NDCG(r, s, k))\n",
    "        for serp in serps\n",
    "    ]),\n",
    "    np.mean([\n",
    "        serp.evaluate_without_predicting(metric=lambda r, s, k=1: NPrecision(r, s, k))\n",
    "        for serp in serps\n",
    "    ]),\n",
    "    np.mean([\n",
    "        serp.evaluate_without_predicting(metric=lambda r, s, k=5: NPrecision(r, s, k))\n",
    "        for serp in serps\n",
    "    ]),\n",
    "    np.mean([\n",
    "        serp.evaluate_without_predicting(metric=lambda r, s, k=10: NPrecision(r, s, k))\n",
    "        for serp in serps\n",
    "    ]),\n",
    "]"
   ]
  },
  {
   "cell_type": "code",
   "execution_count": 75,
   "metadata": {},
   "outputs": [
    {
     "data": {
      "text/plain": [
       "[0.011060497463184146,\n",
       " 0.011959613937541679,\n",
       " 0.014370620844939635,\n",
       " 0.02857221884162195,\n",
       " 0.01579401080562778,\n",
       " 0.017251993456562798]"
      ]
     },
     "execution_count": 75,
     "metadata": {},
     "output_type": "execute_result"
    }
   ],
   "source": [
    "metrics_for_hosvd"
   ]
  },
  {
   "cell_type": "code",
   "execution_count": 76,
   "metadata": {},
   "outputs": [],
   "source": [
    "metrics_for_hooi = [\n",
    "    np.mean([\n",
    "        serp.evaluate(model=lambda x, y, z, m=hooi_model: predict(x, y, z, m),\n",
    "                      metric=lambda r, s, k=5: NDCG(r, s, k))\n",
    "        for serp in serps\n",
    "    ]),\n",
    "    np.mean([\n",
    "        serp.evaluate_without_predicting(metric=lambda r, s, k=10: NDCG(r, s, k))\n",
    "        for serp in serps\n",
    "    ]),\n",
    "    np.mean([\n",
    "        serp.evaluate_without_predicting(metric=lambda r, s, k=20: NDCG(r, s, k))\n",
    "        for serp in serps\n",
    "    ]),\n",
    "    np.mean([\n",
    "        serp.evaluate_without_predicting(metric=lambda r, s, k=1: NPrecision(r, s, k))\n",
    "        for serp in serps\n",
    "    ]),\n",
    "    np.mean([\n",
    "        serp.evaluate_without_predicting(metric=lambda r, s, k=5: NPrecision(r, s, k))\n",
    "        for serp in serps\n",
    "    ]),\n",
    "    np.mean([\n",
    "        serp.evaluate_without_predicting(metric=lambda r, s, k=10: NPrecision(r, s, k))\n",
    "        for serp in serps\n",
    "    ]),\n",
    "]"
   ]
  },
  {
   "cell_type": "code",
   "execution_count": 77,
   "metadata": {},
   "outputs": [
    {
     "data": {
      "text/plain": [
       "[0.010406218953013375,\n",
       " 0.011419355492797068,\n",
       " 0.013885027984936075,\n",
       " 0.022736073463517175,\n",
       " 0.01579401080562778,\n",
       " 0.017251993456562798]"
      ]
     },
     "execution_count": 77,
     "metadata": {},
     "output_type": "execute_result"
    }
   ],
   "source": [
    "metrics_for_hooi"
   ]
  },
  {
   "cell_type": "code",
   "execution_count": null,
   "metadata": {},
   "outputs": [],
   "source": []
  }
 ],
 "metadata": {
  "kernelspec": {
   "display_name": "Python 3",
   "language": "python",
   "name": "python3"
  },
  "language_info": {
   "codemirror_mode": {
    "name": "ipython",
    "version": 3
   },
   "file_extension": ".py",
   "mimetype": "text/x-python",
   "name": "python",
   "nbconvert_exporter": "python",
   "pygments_lexer": "ipython3",
   "version": "3.5.5"
  }
 },
 "nbformat": 4,
 "nbformat_minor": 2
}
